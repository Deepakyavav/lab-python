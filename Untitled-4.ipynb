{
 "cells": [
  {
   "cell_type": "code",
   "execution_count": 1,
   "metadata": {},
   "outputs": [],
   "source": [
    "import numpy as np"
   ]
  },
  {
   "cell_type": "code",
   "execution_count": 2,
   "metadata": {},
   "outputs": [
    {
     "data": {
      "text/plain": [
       "array([[0., 0., 0.],\n",
       "       [0., 1., 2.],\n",
       "       [0., 2., 4.]])"
      ]
     },
     "execution_count": 2,
     "metadata": {},
     "output_type": "execute_result"
    }
   ],
   "source": [
    "np.fromfunction(lambda x,y : x*y,(3,3))"
   ]
  },
  {
   "cell_type": "code",
   "execution_count": 3,
   "metadata": {},
   "outputs": [
    {
     "data": {
      "text/plain": [
       "<generator object <genexpr> at 0x7fc45d2bedd0>"
      ]
     },
     "execution_count": 3,
     "metadata": {},
     "output_type": "execute_result"
    }
   ],
   "source": [
    "iterable=(i*i for i in range(5))\n",
    "iterable"
   ]
  },
  {
   "cell_type": "code",
   "execution_count": 4,
   "metadata": {},
   "outputs": [
    {
     "data": {
      "text/plain": [
       "True"
      ]
     },
     "execution_count": 4,
     "metadata": {},
     "output_type": "execute_result"
    }
   ],
   "source": [
    "np.iterable(iterable)"
   ]
  },
  {
   "cell_type": "code",
   "execution_count": 5,
   "metadata": {},
   "outputs": [
    {
     "data": {
      "text/plain": [
       "array([ 0.,  1.,  4.,  9., 16.])"
      ]
     },
     "execution_count": 5,
     "metadata": {},
     "output_type": "execute_result"
    }
   ],
   "source": [
    "np.fromiter(iterable,float)"
   ]
  },
  {
   "cell_type": "code",
   "execution_count": 6,
   "metadata": {},
   "outputs": [
    {
     "data": {
      "text/plain": [
       "array([123., 123.])"
      ]
     },
     "execution_count": 6,
     "metadata": {},
     "output_type": "execute_result"
    }
   ],
   "source": [
    "np.fromstring(\"123 123\",sep=\" \")"
   ]
  },
  {
   "cell_type": "code",
   "execution_count": 7,
   "metadata": {},
   "outputs": [
    {
     "data": {
      "text/plain": [
       "array([ 123., 1230.])"
      ]
     },
     "execution_count": 7,
     "metadata": {},
     "output_type": "execute_result"
    }
   ],
   "source": [
    "np.fromstring(\"123,1230\",sep=\",\")"
   ]
  },
  {
   "cell_type": "code",
   "execution_count": 8,
   "metadata": {},
   "outputs": [
    {
     "data": {
      "text/plain": [
       "array([ 2,  4,  6,  8, 10, 12, 14, 16, 18])"
      ]
     },
     "execution_count": 8,
     "metadata": {},
     "output_type": "execute_result"
    }
   ],
   "source": [
    "l=list(range(2,20,2))\n",
    "ar=np.array(l)\n",
    "ar"
   ]
  },
  {
   "cell_type": "code",
   "execution_count": 9,
   "metadata": {},
   "outputs": [
    {
     "data": {
      "text/plain": [
       "1"
      ]
     },
     "execution_count": 9,
     "metadata": {},
     "output_type": "execute_result"
    }
   ],
   "source": [
    "ar.ndim"
   ]
  },
  {
   "cell_type": "code",
   "execution_count": 10,
   "metadata": {},
   "outputs": [
    {
     "data": {
      "text/plain": [
       "9"
      ]
     },
     "execution_count": 10,
     "metadata": {},
     "output_type": "execute_result"
    }
   ],
   "source": [
    "ar.size"
   ]
  },
  {
   "cell_type": "code",
   "execution_count": 11,
   "metadata": {},
   "outputs": [
    {
     "data": {
      "text/plain": [
       "dtype('int64')"
      ]
     },
     "execution_count": 11,
     "metadata": {},
     "output_type": "execute_result"
    }
   ],
   "source": [
    "ar.dtype"
   ]
  },
  {
   "cell_type": "code",
   "execution_count": 12,
   "metadata": {},
   "outputs": [
    {
     "data": {
      "text/plain": [
       "array([2.3, 2.6, 2.9, 3.2, 3.5, 3.8, 4.1, 4.4, 4.7, 5. , 5.3])"
      ]
     },
     "execution_count": 12,
     "metadata": {},
     "output_type": "execute_result"
    }
   ],
   "source": [
    "np.arange(2.3,5.4,0.3)"
   ]
  },
  {
   "cell_type": "code",
   "execution_count": 13,
   "metadata": {},
   "outputs": [
    {
     "data": {
      "text/plain": [
       "[1.0, 1.5, 2.0]"
      ]
     },
     "execution_count": 13,
     "metadata": {},
     "output_type": "execute_result"
    }
   ],
   "source": [
    "list(np.arange(1,2.5,0.5))"
   ]
  },
  {
   "cell_type": "code",
   "execution_count": 14,
   "metadata": {},
   "outputs": [
    {
     "data": {
      "text/plain": [
       "array([ 1.        ,  1.09090909,  1.18181818,  1.27272727,  1.36363636,\n",
       "        1.45454545,  1.54545455,  1.63636364,  1.72727273,  1.81818182,\n",
       "        1.90909091,  2.        ,  2.09090909,  2.18181818,  2.27272727,\n",
       "        2.36363636,  2.45454545,  2.54545455,  2.63636364,  2.72727273,\n",
       "        2.81818182,  2.90909091,  3.        ,  3.09090909,  3.18181818,\n",
       "        3.27272727,  3.36363636,  3.45454545,  3.54545455,  3.63636364,\n",
       "        3.72727273,  3.81818182,  3.90909091,  4.        ,  4.09090909,\n",
       "        4.18181818,  4.27272727,  4.36363636,  4.45454545,  4.54545455,\n",
       "        4.63636364,  4.72727273,  4.81818182,  4.90909091,  5.        ,\n",
       "        5.09090909,  5.18181818,  5.27272727,  5.36363636,  5.45454545,\n",
       "        5.54545455,  5.63636364,  5.72727273,  5.81818182,  5.90909091,\n",
       "        6.        ,  6.09090909,  6.18181818,  6.27272727,  6.36363636,\n",
       "        6.45454545,  6.54545455,  6.63636364,  6.72727273,  6.81818182,\n",
       "        6.90909091,  7.        ,  7.09090909,  7.18181818,  7.27272727,\n",
       "        7.36363636,  7.45454545,  7.54545455,  7.63636364,  7.72727273,\n",
       "        7.81818182,  7.90909091,  8.        ,  8.09090909,  8.18181818,\n",
       "        8.27272727,  8.36363636,  8.45454545,  8.54545455,  8.63636364,\n",
       "        8.72727273,  8.81818182,  8.90909091,  9.        ,  9.09090909,\n",
       "        9.18181818,  9.27272727,  9.36363636,  9.45454545,  9.54545455,\n",
       "        9.63636364,  9.72727273,  9.81818182,  9.90909091, 10.        ])"
      ]
     },
     "execution_count": 14,
     "metadata": {},
     "output_type": "execute_result"
    }
   ],
   "source": [
    "np.linspace(1,10,100)\n",
    "# will generate 100 data samples"
   ]
  },
  {
   "cell_type": "code",
   "execution_count": 15,
   "metadata": {},
   "outputs": [
    {
     "data": {
      "text/plain": [
       "array([0., 0., 0., 0., 0., 0., 0., 0., 0., 0.])"
      ]
     },
     "execution_count": 15,
     "metadata": {},
     "output_type": "execute_result"
    }
   ],
   "source": [
    "np.zeros(10)"
   ]
  },
  {
   "cell_type": "code",
   "execution_count": 16,
   "metadata": {},
   "outputs": [
    {
     "data": {
      "text/plain": [
       "array([[0., 0., 0.],\n",
       "       [0., 0., 0.]])"
      ]
     },
     "execution_count": 16,
     "metadata": {},
     "output_type": "execute_result"
    }
   ],
   "source": [
    "np.zeros((2,3))"
   ]
  },
  {
   "cell_type": "code",
   "execution_count": 17,
   "metadata": {},
   "outputs": [
    {
     "data": {
      "text/plain": [
       "3"
      ]
     },
     "execution_count": 17,
     "metadata": {},
     "output_type": "execute_result"
    }
   ],
   "source": [
    "ar=np.zeros((2,3,4))\n",
    "# np.zeros(number_of_matrices,rows,columns)\n",
    "ar.ndim"
   ]
  },
  {
   "cell_type": "code",
   "execution_count": 18,
   "metadata": {},
   "outputs": [
    {
     "data": {
      "text/plain": [
       "array([[8., 8., 8.],\n",
       "       [8., 8., 8.]])"
      ]
     },
     "execution_count": 18,
     "metadata": {},
     "output_type": "execute_result"
    }
   ],
   "source": [
    "np.ones((2,3))+7"
   ]
  },
  {
   "cell_type": "code",
   "execution_count": 19,
   "metadata": {},
   "outputs": [
    {
     "data": {
      "text/plain": [
       "array([[2.23688261e-316, 0.00000000e+000, 9.82157975e+252,\n",
       "        8.89489936e+252, 6.01346954e-154],\n",
       "       [6.01347002e-154, 6.01347002e-154, 6.01347002e-154,\n",
       "        9.08366793e+223, 1.14177168e+243],\n",
       "       [2.45126797e+198, 1.06083187e-153, 2.35625393e+251,\n",
       "        6.01334511e-154, 6.01347002e-154],\n",
       "       [6.01347002e-154, 6.01347002e-154, 1.88556770e+122,\n",
       "        4.96820036e+180, 6.80600993e+212],\n",
       "       [1.10317376e+217, 1.19490107e+190, 2.06642651e+161,\n",
       "        5.44760669e-109, 7.54400329e-315]])"
      ]
     },
     "execution_count": 19,
     "metadata": {},
     "output_type": "execute_result"
    }
   ],
   "source": [
    "np.empty((5,5))"
   ]
  },
  {
   "cell_type": "code",
   "execution_count": 20,
   "metadata": {},
   "outputs": [
    {
     "data": {
      "text/plain": [
       "array([[1., 0., 0., 0.],\n",
       "       [0., 1., 0., 0.],\n",
       "       [0., 0., 1., 0.],\n",
       "       [0., 0., 0., 1.]])"
      ]
     },
     "execution_count": 20,
     "metadata": {},
     "output_type": "execute_result"
    }
   ],
   "source": [
    "np.eye(4)\n",
    "# the identity Matrix"
   ]
  },
  {
   "cell_type": "code",
   "execution_count": 21,
   "metadata": {},
   "outputs": [
    {
     "data": {
      "text/plain": [
       "array([2.        , 2.22222222, 2.44444444, 2.66666667, 2.88888889,\n",
       "       3.11111111, 3.33333333, 3.55555556, 3.77777778, 4.        ])"
      ]
     },
     "execution_count": 21,
     "metadata": {},
     "output_type": "execute_result"
    }
   ],
   "source": [
    "np.linspace(2,4,10)"
   ]
  },
  {
   "cell_type": "code",
   "execution_count": 22,
   "metadata": {},
   "outputs": [
    {
     "data": {
      "text/plain": [
       "array([1.00000000e+02, 7.74263683e+02, 5.99484250e+03, 4.64158883e+04,\n",
       "       3.59381366e+05, 2.78255940e+06, 2.15443469e+07, 1.66810054e+08,\n",
       "       1.29154967e+09, 1.00000000e+10])"
      ]
     },
     "execution_count": 22,
     "metadata": {},
     "output_type": "execute_result"
    }
   ],
   "source": [
    "np.logspace(2,10,10)"
   ]
  },
  {
   "cell_type": "code",
   "execution_count": 23,
   "metadata": {},
   "outputs": [
    {
     "data": {
      "text/plain": [
       "array([[-0.47556357, -0.47603564,  0.16694444,  0.63663936, -0.8386198 ],\n",
       "       [-0.03458052, -0.01434434,  0.70024074,  2.1104513 , -1.01812111],\n",
       "       [-0.94552034, -0.11585844,  0.12342077, -1.75226036, -0.66683986]])"
      ]
     },
     "execution_count": 23,
     "metadata": {},
     "output_type": "execute_result"
    }
   ],
   "source": [
    "arr=np.random.randn(3,5)\n",
    "# randaom data samples from the normal distribution\n",
    "arr"
   ]
  },
  {
   "cell_type": "code",
   "execution_count": 24,
   "metadata": {},
   "outputs": [
    {
     "data": {
      "text/plain": [
       "array([[0.71843011, 0.09559476, 0.63778128, 0.78144131, 0.82887975],\n",
       "       [0.84923508, 0.65879814, 0.4051937 , 0.87951414, 0.27411541]])"
      ]
     },
     "execution_count": 24,
     "metadata": {},
     "output_type": "execute_result"
    }
   ],
   "source": [
    "np.random.rand(2,5)\n",
    "# random data values"
   ]
  },
  {
   "cell_type": "code",
   "execution_count": 25,
   "metadata": {},
   "outputs": [],
   "source": [
    "import pandas as pd"
   ]
  },
  {
   "cell_type": "code",
   "execution_count": 26,
   "metadata": {},
   "outputs": [
    {
     "data": {
      "text/html": [
       "<div>\n",
       "<style scoped>\n",
       "    .dataframe tbody tr th:only-of-type {\n",
       "        vertical-align: middle;\n",
       "    }\n",
       "\n",
       "    .dataframe tbody tr th {\n",
       "        vertical-align: top;\n",
       "    }\n",
       "\n",
       "    .dataframe thead th {\n",
       "        text-align: right;\n",
       "    }\n",
       "</style>\n",
       "<table border=\"1\" class=\"dataframe\">\n",
       "  <thead>\n",
       "    <tr style=\"text-align: right;\">\n",
       "      <th></th>\n",
       "      <th>0</th>\n",
       "      <th>1</th>\n",
       "      <th>2</th>\n",
       "      <th>3</th>\n",
       "      <th>4</th>\n",
       "    </tr>\n",
       "  </thead>\n",
       "  <tbody>\n",
       "    <tr>\n",
       "      <th>0</th>\n",
       "      <td>-0.475564</td>\n",
       "      <td>-0.476036</td>\n",
       "      <td>0.166944</td>\n",
       "      <td>0.636639</td>\n",
       "      <td>-0.838620</td>\n",
       "    </tr>\n",
       "    <tr>\n",
       "      <th>1</th>\n",
       "      <td>-0.034581</td>\n",
       "      <td>-0.014344</td>\n",
       "      <td>0.700241</td>\n",
       "      <td>2.110451</td>\n",
       "      <td>-1.018121</td>\n",
       "    </tr>\n",
       "    <tr>\n",
       "      <th>2</th>\n",
       "      <td>-0.945520</td>\n",
       "      <td>-0.115858</td>\n",
       "      <td>0.123421</td>\n",
       "      <td>-1.752260</td>\n",
       "      <td>-0.666840</td>\n",
       "    </tr>\n",
       "  </tbody>\n",
       "</table>\n",
       "</div>"
      ],
      "text/plain": [
       "          0         1         2         3         4\n",
       "0 -0.475564 -0.476036  0.166944  0.636639 -0.838620\n",
       "1 -0.034581 -0.014344  0.700241  2.110451 -1.018121\n",
       "2 -0.945520 -0.115858  0.123421 -1.752260 -0.666840"
      ]
     },
     "execution_count": 26,
     "metadata": {},
     "output_type": "execute_result"
    }
   ],
   "source": [
    "pd.DataFrame(arr)"
   ]
  },
  {
   "cell_type": "code",
   "execution_count": 27,
   "metadata": {},
   "outputs": [
    {
     "data": {
      "text/plain": [
       "array([[33, 48, 56, 25],\n",
       "       [79, 59,  9, 44],\n",
       "       [ 4, 66, 65, 68]])"
      ]
     },
     "execution_count": 27,
     "metadata": {},
     "output_type": "execute_result"
    }
   ],
   "source": [
    "np.random.randint(1,100,(3,4))\n",
    "# will return the integers within the spacefied range"
   ]
  },
  {
   "cell_type": "code",
   "execution_count": 28,
   "metadata": {},
   "outputs": [
    {
     "data": {
      "text/html": [
       "<div>\n",
       "<style scoped>\n",
       "    .dataframe tbody tr th:only-of-type {\n",
       "        vertical-align: middle;\n",
       "    }\n",
       "\n",
       "    .dataframe tbody tr th {\n",
       "        vertical-align: top;\n",
       "    }\n",
       "\n",
       "    .dataframe thead th {\n",
       "        text-align: right;\n",
       "    }\n",
       "</style>\n",
       "<table border=\"1\" class=\"dataframe\">\n",
       "  <thead>\n",
       "    <tr style=\"text-align: right;\">\n",
       "      <th></th>\n",
       "      <th>0</th>\n",
       "      <th>1</th>\n",
       "      <th>2</th>\n",
       "      <th>3</th>\n",
       "      <th>4</th>\n",
       "      <th>5</th>\n",
       "      <th>6</th>\n",
       "      <th>7</th>\n",
       "      <th>8</th>\n",
       "      <th>9</th>\n",
       "      <th>...</th>\n",
       "      <th>490</th>\n",
       "      <th>491</th>\n",
       "      <th>492</th>\n",
       "      <th>493</th>\n",
       "      <th>494</th>\n",
       "      <th>495</th>\n",
       "      <th>496</th>\n",
       "      <th>497</th>\n",
       "      <th>498</th>\n",
       "      <th>499</th>\n",
       "    </tr>\n",
       "  </thead>\n",
       "  <tbody>\n",
       "    <tr>\n",
       "      <th>0</th>\n",
       "      <td>77</td>\n",
       "      <td>49</td>\n",
       "      <td>39</td>\n",
       "      <td>14</td>\n",
       "      <td>23</td>\n",
       "      <td>72</td>\n",
       "      <td>93</td>\n",
       "      <td>19</td>\n",
       "      <td>87</td>\n",
       "      <td>19</td>\n",
       "      <td>...</td>\n",
       "      <td>99</td>\n",
       "      <td>56</td>\n",
       "      <td>70</td>\n",
       "      <td>96</td>\n",
       "      <td>31</td>\n",
       "      <td>81</td>\n",
       "      <td>67</td>\n",
       "      <td>75</td>\n",
       "      <td>58</td>\n",
       "      <td>52</td>\n",
       "    </tr>\n",
       "    <tr>\n",
       "      <th>1</th>\n",
       "      <td>22</td>\n",
       "      <td>55</td>\n",
       "      <td>78</td>\n",
       "      <td>11</td>\n",
       "      <td>66</td>\n",
       "      <td>28</td>\n",
       "      <td>55</td>\n",
       "      <td>69</td>\n",
       "      <td>31</td>\n",
       "      <td>57</td>\n",
       "      <td>...</td>\n",
       "      <td>58</td>\n",
       "      <td>58</td>\n",
       "      <td>24</td>\n",
       "      <td>61</td>\n",
       "      <td>55</td>\n",
       "      <td>57</td>\n",
       "      <td>51</td>\n",
       "      <td>65</td>\n",
       "      <td>67</td>\n",
       "      <td>78</td>\n",
       "    </tr>\n",
       "    <tr>\n",
       "      <th>2</th>\n",
       "      <td>13</td>\n",
       "      <td>52</td>\n",
       "      <td>63</td>\n",
       "      <td>75</td>\n",
       "      <td>47</td>\n",
       "      <td>10</td>\n",
       "      <td>87</td>\n",
       "      <td>88</td>\n",
       "      <td>54</td>\n",
       "      <td>8</td>\n",
       "      <td>...</td>\n",
       "      <td>92</td>\n",
       "      <td>14</td>\n",
       "      <td>89</td>\n",
       "      <td>87</td>\n",
       "      <td>14</td>\n",
       "      <td>42</td>\n",
       "      <td>30</td>\n",
       "      <td>70</td>\n",
       "      <td>67</td>\n",
       "      <td>63</td>\n",
       "    </tr>\n",
       "    <tr>\n",
       "      <th>3</th>\n",
       "      <td>36</td>\n",
       "      <td>60</td>\n",
       "      <td>14</td>\n",
       "      <td>23</td>\n",
       "      <td>76</td>\n",
       "      <td>42</td>\n",
       "      <td>65</td>\n",
       "      <td>68</td>\n",
       "      <td>20</td>\n",
       "      <td>89</td>\n",
       "      <td>...</td>\n",
       "      <td>97</td>\n",
       "      <td>45</td>\n",
       "      <td>42</td>\n",
       "      <td>83</td>\n",
       "      <td>29</td>\n",
       "      <td>40</td>\n",
       "      <td>77</td>\n",
       "      <td>26</td>\n",
       "      <td>29</td>\n",
       "      <td>45</td>\n",
       "    </tr>\n",
       "    <tr>\n",
       "      <th>4</th>\n",
       "      <td>72</td>\n",
       "      <td>15</td>\n",
       "      <td>78</td>\n",
       "      <td>76</td>\n",
       "      <td>86</td>\n",
       "      <td>32</td>\n",
       "      <td>51</td>\n",
       "      <td>83</td>\n",
       "      <td>3</td>\n",
       "      <td>68</td>\n",
       "      <td>...</td>\n",
       "      <td>42</td>\n",
       "      <td>40</td>\n",
       "      <td>88</td>\n",
       "      <td>60</td>\n",
       "      <td>40</td>\n",
       "      <td>50</td>\n",
       "      <td>27</td>\n",
       "      <td>32</td>\n",
       "      <td>13</td>\n",
       "      <td>38</td>\n",
       "    </tr>\n",
       "    <tr>\n",
       "      <th>...</th>\n",
       "      <td>...</td>\n",
       "      <td>...</td>\n",
       "      <td>...</td>\n",
       "      <td>...</td>\n",
       "      <td>...</td>\n",
       "      <td>...</td>\n",
       "      <td>...</td>\n",
       "      <td>...</td>\n",
       "      <td>...</td>\n",
       "      <td>...</td>\n",
       "      <td>...</td>\n",
       "      <td>...</td>\n",
       "      <td>...</td>\n",
       "      <td>...</td>\n",
       "      <td>...</td>\n",
       "      <td>...</td>\n",
       "      <td>...</td>\n",
       "      <td>...</td>\n",
       "      <td>...</td>\n",
       "      <td>...</td>\n",
       "      <td>...</td>\n",
       "    </tr>\n",
       "    <tr>\n",
       "      <th>495</th>\n",
       "      <td>77</td>\n",
       "      <td>56</td>\n",
       "      <td>68</td>\n",
       "      <td>32</td>\n",
       "      <td>72</td>\n",
       "      <td>20</td>\n",
       "      <td>46</td>\n",
       "      <td>3</td>\n",
       "      <td>56</td>\n",
       "      <td>73</td>\n",
       "      <td>...</td>\n",
       "      <td>66</td>\n",
       "      <td>19</td>\n",
       "      <td>48</td>\n",
       "      <td>20</td>\n",
       "      <td>51</td>\n",
       "      <td>88</td>\n",
       "      <td>77</td>\n",
       "      <td>1</td>\n",
       "      <td>51</td>\n",
       "      <td>27</td>\n",
       "    </tr>\n",
       "    <tr>\n",
       "      <th>496</th>\n",
       "      <td>77</td>\n",
       "      <td>38</td>\n",
       "      <td>54</td>\n",
       "      <td>45</td>\n",
       "      <td>58</td>\n",
       "      <td>92</td>\n",
       "      <td>38</td>\n",
       "      <td>36</td>\n",
       "      <td>60</td>\n",
       "      <td>97</td>\n",
       "      <td>...</td>\n",
       "      <td>15</td>\n",
       "      <td>63</td>\n",
       "      <td>48</td>\n",
       "      <td>22</td>\n",
       "      <td>36</td>\n",
       "      <td>47</td>\n",
       "      <td>43</td>\n",
       "      <td>63</td>\n",
       "      <td>17</td>\n",
       "      <td>57</td>\n",
       "    </tr>\n",
       "    <tr>\n",
       "      <th>497</th>\n",
       "      <td>15</td>\n",
       "      <td>98</td>\n",
       "      <td>25</td>\n",
       "      <td>67</td>\n",
       "      <td>68</td>\n",
       "      <td>49</td>\n",
       "      <td>85</td>\n",
       "      <td>96</td>\n",
       "      <td>76</td>\n",
       "      <td>52</td>\n",
       "      <td>...</td>\n",
       "      <td>26</td>\n",
       "      <td>1</td>\n",
       "      <td>90</td>\n",
       "      <td>75</td>\n",
       "      <td>87</td>\n",
       "      <td>15</td>\n",
       "      <td>15</td>\n",
       "      <td>57</td>\n",
       "      <td>91</td>\n",
       "      <td>27</td>\n",
       "    </tr>\n",
       "    <tr>\n",
       "      <th>498</th>\n",
       "      <td>21</td>\n",
       "      <td>32</td>\n",
       "      <td>8</td>\n",
       "      <td>10</td>\n",
       "      <td>50</td>\n",
       "      <td>43</td>\n",
       "      <td>81</td>\n",
       "      <td>59</td>\n",
       "      <td>65</td>\n",
       "      <td>39</td>\n",
       "      <td>...</td>\n",
       "      <td>63</td>\n",
       "      <td>55</td>\n",
       "      <td>34</td>\n",
       "      <td>43</td>\n",
       "      <td>6</td>\n",
       "      <td>11</td>\n",
       "      <td>20</td>\n",
       "      <td>21</td>\n",
       "      <td>66</td>\n",
       "      <td>15</td>\n",
       "    </tr>\n",
       "    <tr>\n",
       "      <th>499</th>\n",
       "      <td>95</td>\n",
       "      <td>3</td>\n",
       "      <td>5</td>\n",
       "      <td>44</td>\n",
       "      <td>68</td>\n",
       "      <td>40</td>\n",
       "      <td>11</td>\n",
       "      <td>95</td>\n",
       "      <td>69</td>\n",
       "      <td>70</td>\n",
       "      <td>...</td>\n",
       "      <td>4</td>\n",
       "      <td>92</td>\n",
       "      <td>44</td>\n",
       "      <td>97</td>\n",
       "      <td>80</td>\n",
       "      <td>40</td>\n",
       "      <td>73</td>\n",
       "      <td>70</td>\n",
       "      <td>30</td>\n",
       "      <td>35</td>\n",
       "    </tr>\n",
       "  </tbody>\n",
       "</table>\n",
       "<p>500 rows × 500 columns</p>\n",
       "</div>"
      ],
      "text/plain": [
       "     0    1    2    3    4    5    6    7    8    9    ...  490  491  492  \\\n",
       "0     77   49   39   14   23   72   93   19   87   19  ...   99   56   70   \n",
       "1     22   55   78   11   66   28   55   69   31   57  ...   58   58   24   \n",
       "2     13   52   63   75   47   10   87   88   54    8  ...   92   14   89   \n",
       "3     36   60   14   23   76   42   65   68   20   89  ...   97   45   42   \n",
       "4     72   15   78   76   86   32   51   83    3   68  ...   42   40   88   \n",
       "..   ...  ...  ...  ...  ...  ...  ...  ...  ...  ...  ...  ...  ...  ...   \n",
       "495   77   56   68   32   72   20   46    3   56   73  ...   66   19   48   \n",
       "496   77   38   54   45   58   92   38   36   60   97  ...   15   63   48   \n",
       "497   15   98   25   67   68   49   85   96   76   52  ...   26    1   90   \n",
       "498   21   32    8   10   50   43   81   59   65   39  ...   63   55   34   \n",
       "499   95    3    5   44   68   40   11   95   69   70  ...    4   92   44   \n",
       "\n",
       "     493  494  495  496  497  498  499  \n",
       "0     96   31   81   67   75   58   52  \n",
       "1     61   55   57   51   65   67   78  \n",
       "2     87   14   42   30   70   67   63  \n",
       "3     83   29   40   77   26   29   45  \n",
       "4     60   40   50   27   32   13   38  \n",
       "..   ...  ...  ...  ...  ...  ...  ...  \n",
       "495   20   51   88   77    1   51   27  \n",
       "496   22   36   47   43   63   17   57  \n",
       "497   75   87   15   15   57   91   27  \n",
       "498   43    6   11   20   21   66   15  \n",
       "499   97   80   40   73   70   30   35  \n",
       "\n",
       "[500 rows x 500 columns]"
      ]
     },
     "execution_count": 28,
     "metadata": {},
     "output_type": "execute_result"
    }
   ],
   "source": [
    "pd.DataFrame(np.random.randint(1,100,(500,500)))"
   ]
  },
  {
   "cell_type": "code",
   "execution_count": 29,
   "metadata": {},
   "outputs": [
    {
     "data": {
      "text/plain": [
       "array([[-0.47556357, -0.47603564,  0.16694444],\n",
       "       [ 0.63663936, -0.8386198 , -0.03458052],\n",
       "       [-0.01434434,  0.70024074,  2.1104513 ],\n",
       "       [-1.01812111, -0.94552034, -0.11585844],\n",
       "       [ 0.12342077, -1.75226036, -0.66683986]])"
      ]
     },
     "execution_count": 29,
     "metadata": {},
     "output_type": "execute_result"
    }
   ],
   "source": [
    "arr.reshape(5,-1)"
   ]
  },
  {
   "cell_type": "code",
   "execution_count": 30,
   "metadata": {},
   "outputs": [
    {
     "data": {
      "text/plain": [
       "array([[-0.47556357, -0.47603564,  0.16694444,  0.63663936, -0.8386198 ],\n",
       "       [-0.03458052, -0.01434434,  0.70024074,  2.1104513 , -1.01812111],\n",
       "       [-0.94552034, -0.11585844,  0.12342077, -1.75226036, -0.66683986]])"
      ]
     },
     "execution_count": 30,
     "metadata": {},
     "output_type": "execute_result"
    }
   ],
   "source": [
    "arr.reshape(3,-1)"
   ]
  },
  {
   "cell_type": "code",
   "execution_count": 31,
   "metadata": {},
   "outputs": [
    {
     "data": {
      "text/plain": [
       "array([[12, 27, 15, ..., 75, 87, 92],\n",
       "       [97, 74, 99, ..., 85, 52, 50],\n",
       "       [42, 85, 33, ..., 64, 33, 31],\n",
       "       ...,\n",
       "       [23, 75, 54, ..., 91, 71, 35],\n",
       "       [36, 75, 77, ..., 39, 29, 68],\n",
       "       [98, 22, 25, ..., 71, 13, 43]])"
      ]
     },
     "execution_count": 31,
     "metadata": {},
     "output_type": "execute_result"
    }
   ],
   "source": [
    "arr=np.random.randint(1,100,(50,50))\n",
    "arr"
   ]
  },
  {
   "cell_type": "code",
   "execution_count": 32,
   "metadata": {},
   "outputs": [
    {
     "data": {
      "text/plain": [
       "0.4936"
      ]
     },
     "execution_count": 32,
     "metadata": {},
     "output_type": "execute_result"
    }
   ],
   "source": [
    "len(arr[arr>50])/(2500)"
   ]
  },
  {
   "cell_type": "code",
   "execution_count": 33,
   "metadata": {},
   "outputs": [],
   "source": [
    "arr1=np.random.randint(1,10,(3,3))\n",
    "arr2=np.random.randint(1,10,(3,3))"
   ]
  },
  {
   "cell_type": "code",
   "execution_count": 34,
   "metadata": {},
   "outputs": [
    {
     "data": {
      "text/plain": [
       "array([[5, 9, 7],\n",
       "       [1, 6, 3],\n",
       "       [8, 8, 3]])"
      ]
     },
     "execution_count": 34,
     "metadata": {},
     "output_type": "execute_result"
    }
   ],
   "source": [
    "arr1"
   ]
  },
  {
   "cell_type": "code",
   "execution_count": 35,
   "metadata": {},
   "outputs": [
    {
     "data": {
      "text/plain": [
       "array([[4, 4, 7],\n",
       "       [3, 7, 8],\n",
       "       [4, 9, 1]])"
      ]
     },
     "execution_count": 35,
     "metadata": {},
     "output_type": "execute_result"
    }
   ],
   "source": [
    "arr2"
   ]
  },
  {
   "cell_type": "code",
   "execution_count": 36,
   "metadata": {},
   "outputs": [
    {
     "data": {
      "text/plain": [
       "array([[ 9, 13, 14],\n",
       "       [ 4, 13, 11],\n",
       "       [12, 17,  4]])"
      ]
     },
     "execution_count": 36,
     "metadata": {},
     "output_type": "execute_result"
    }
   ],
   "source": [
    "arr1+arr2"
   ]
  },
  {
   "cell_type": "code",
   "execution_count": 37,
   "metadata": {},
   "outputs": [
    {
     "data": {
      "text/plain": [
       "array([[20, 36, 49],\n",
       "       [ 3, 42, 24],\n",
       "       [32, 72,  3]])"
      ]
     },
     "execution_count": 37,
     "metadata": {},
     "output_type": "execute_result"
    }
   ],
   "source": [
    "arr1*arr2\n",
    "# element wise multeplication"
   ]
  },
  {
   "cell_type": "code",
   "execution_count": 38,
   "metadata": {},
   "outputs": [
    {
     "data": {
      "text/plain": [
       "array([[ 75, 146, 114],\n",
       "       [ 34,  73,  58],\n",
       "       [ 68, 115, 123]])"
      ]
     },
     "execution_count": 38,
     "metadata": {},
     "output_type": "execute_result"
    }
   ],
   "source": [
    "arr1@arr2\n",
    "# Matrix multelication"
   ]
  },
  {
   "cell_type": "code",
   "execution_count": 39,
   "metadata": {},
   "outputs": [
    {
     "data": {
      "text/plain": [
       "array([[25, 81, 49],\n",
       "       [ 1, 36,  9],\n",
       "       [64, 64,  9]])"
      ]
     },
     "execution_count": 39,
     "metadata": {},
     "output_type": "execute_result"
    }
   ],
   "source": [
    "arr1**2"
   ]
  },
  {
   "cell_type": "code",
   "execution_count": 40,
   "metadata": {},
   "outputs": [
    {
     "data": {
      "text/plain": [
       "array([[0., 0., 0., 0., 0.],\n",
       "       [0., 0., 0., 0., 0.],\n",
       "       [0., 0., 0., 0., 0.],\n",
       "       [0., 0., 0., 0., 0.],\n",
       "       [0., 0., 0., 0., 0.]])"
      ]
     },
     "execution_count": 40,
     "metadata": {},
     "output_type": "execute_result"
    }
   ],
   "source": [
    "arr=np.zeros((5,5))\n",
    "arr"
   ]
  },
  {
   "cell_type": "code",
   "execution_count": 41,
   "metadata": {},
   "outputs": [
    {
     "data": {
      "text/plain": [
       "[0, 1, 2, 3, 4]"
      ]
     },
     "execution_count": 41,
     "metadata": {},
     "output_type": "execute_result"
    }
   ],
   "source": [
    "l=list(range(5))\n",
    "l"
   ]
  },
  {
   "cell_type": "code",
   "execution_count": 42,
   "metadata": {},
   "outputs": [
    {
     "data": {
      "text/plain": [
       "array([[0., 1., 2., 3., 4.],\n",
       "       [0., 1., 2., 3., 4.],\n",
       "       [0., 1., 2., 3., 4.],\n",
       "       [0., 1., 2., 3., 4.],\n",
       "       [0., 1., 2., 3., 4.]])"
      ]
     },
     "execution_count": 42,
     "metadata": {},
     "output_type": "execute_result"
    }
   ],
   "source": [
    "arr+l"
   ]
  },
  {
   "cell_type": "code",
   "execution_count": 43,
   "metadata": {},
   "outputs": [
    {
     "data": {
      "text/plain": [
       "(5,)"
      ]
     },
     "execution_count": 43,
     "metadata": {},
     "output_type": "execute_result"
    }
   ],
   "source": [
    "row=np.array(l)\n",
    "row.shape"
   ]
  },
  {
   "cell_type": "code",
   "execution_count": 44,
   "metadata": {},
   "outputs": [
    {
     "data": {
      "text/plain": [
       "array([[0., 1., 2., 3., 4.],\n",
       "       [0., 1., 2., 3., 4.],\n",
       "       [0., 1., 2., 3., 4.],\n",
       "       [0., 1., 2., 3., 4.],\n",
       "       [0., 1., 2., 3., 4.]])"
      ]
     },
     "execution_count": 44,
     "metadata": {},
     "output_type": "execute_result"
    }
   ],
   "source": [
    "arr+row\n",
    "# row wise broadcasting"
   ]
  },
  {
   "cell_type": "code",
   "execution_count": 45,
   "metadata": {},
   "outputs": [
    {
     "data": {
      "text/plain": [
       "array([[0., 0., 0., 0., 0.],\n",
       "       [1., 1., 1., 1., 1.],\n",
       "       [2., 2., 2., 2., 2.],\n",
       "       [3., 3., 3., 3., 3.],\n",
       "       [4., 4., 4., 4., 4.]])"
      ]
     },
     "execution_count": 45,
     "metadata": {},
     "output_type": "execute_result"
    }
   ],
   "source": [
    "col=np.array([l])\n",
    "arr+col.T\n",
    "# Now the Broadcasting will be column wise"
   ]
  },
  {
   "cell_type": "code",
   "execution_count": 46,
   "metadata": {},
   "outputs": [
    {
     "data": {
      "text/plain": [
       "array([[4, 1, 6, 7, 8],\n",
       "       [2, 6, 6, 9, 2],\n",
       "       [7, 1, 4, 3, 5],\n",
       "       [6, 4, 8, 7, 2],\n",
       "       [8, 9, 2, 5, 4]])"
      ]
     },
     "execution_count": 46,
     "metadata": {},
     "output_type": "execute_result"
    }
   ],
   "source": [
    "arr1=np.random.randint(1,10,(5,5))\n",
    "arr1"
   ]
  },
  {
   "cell_type": "code",
   "execution_count": 47,
   "metadata": {},
   "outputs": [
    {
     "data": {
      "text/plain": [
       "array([[2.        , 1.        , 2.44948974, 2.64575131, 2.82842712],\n",
       "       [1.41421356, 2.44948974, 2.44948974, 3.        , 1.41421356],\n",
       "       [2.64575131, 1.        , 2.        , 1.73205081, 2.23606798],\n",
       "       [2.44948974, 2.        , 2.82842712, 2.64575131, 1.41421356],\n",
       "       [2.82842712, 3.        , 1.41421356, 2.23606798, 2.        ]])"
      ]
     },
     "execution_count": 47,
     "metadata": {},
     "output_type": "execute_result"
    }
   ],
   "source": [
    "np.sqrt(arr1)"
   ]
  },
  {
   "cell_type": "code",
   "execution_count": 48,
   "metadata": {},
   "outputs": [
    {
     "data": {
      "text/plain": [
       "array([[0.60205999, 0.        , 0.77815125, 0.84509804, 0.90308999],\n",
       "       [0.30103   , 0.77815125, 0.77815125, 0.95424251, 0.30103   ],\n",
       "       [0.84509804, 0.        , 0.60205999, 0.47712125, 0.69897   ],\n",
       "       [0.77815125, 0.60205999, 0.90308999, 0.84509804, 0.30103   ],\n",
       "       [0.90308999, 0.95424251, 0.30103   , 0.69897   , 0.60205999]])"
      ]
     },
     "execution_count": 48,
     "metadata": {},
     "output_type": "execute_result"
    }
   ],
   "source": [
    "np.log10(arr1)"
   ]
  },
  {
   "cell_type": "code",
   "execution_count": 51,
   "metadata": {},
   "outputs": [
    {
     "data": {
      "text/plain": [
       "array([[5.45981500e+01, 2.71828183e+00, 4.03428793e+02, 1.09663316e+03,\n",
       "        2.98095799e+03],\n",
       "       [7.38905610e+00, 4.03428793e+02, 4.03428793e+02, 8.10308393e+03,\n",
       "        7.38905610e+00],\n",
       "       [1.09663316e+03, 2.71828183e+00, 5.45981500e+01, 2.00855369e+01,\n",
       "        1.48413159e+02],\n",
       "       [4.03428793e+02, 5.45981500e+01, 2.98095799e+03, 1.09663316e+03,\n",
       "        7.38905610e+00],\n",
       "       [2.98095799e+03, 8.10308393e+03, 7.38905610e+00, 1.48413159e+02,\n",
       "        5.45981500e+01]])"
      ]
     },
     "execution_count": 51,
     "metadata": {},
     "output_type": "execute_result"
    }
   ],
   "source": [
    "arr=np.exp(arr1)\n",
    "arr"
   ]
  },
  {
   "cell_type": "code",
   "execution_count": 52,
   "metadata": {},
   "outputs": [
    {
     "data": {
      "text/plain": [
       "array([[5.45981500e+01, 7.38905610e+00, 1.09663316e+03, 4.03428793e+02,\n",
       "        2.98095799e+03],\n",
       "       [2.71828183e+00, 4.03428793e+02, 2.71828183e+00, 5.45981500e+01,\n",
       "        8.10308393e+03],\n",
       "       [4.03428793e+02, 4.03428793e+02, 5.45981500e+01, 2.98095799e+03,\n",
       "        7.38905610e+00],\n",
       "       [1.09663316e+03, 8.10308393e+03, 2.00855369e+01, 1.09663316e+03,\n",
       "        1.48413159e+02],\n",
       "       [2.98095799e+03, 7.38905610e+00, 1.48413159e+02, 7.38905610e+00,\n",
       "        5.45981500e+01]])"
      ]
     },
     "execution_count": 52,
     "metadata": {},
     "output_type": "execute_result"
    }
   ],
   "source": [
    "arr.T"
   ]
  },
  {
   "cell_type": "code",
   "execution_count": 55,
   "metadata": {},
   "outputs": [
    {
     "data": {
      "text/plain": [
       "(5, 5)"
      ]
     },
     "execution_count": 55,
     "metadata": {},
     "output_type": "execute_result"
    }
   ],
   "source": [
    "arr.shape"
   ]
  },
  {
   "cell_type": "code",
   "execution_count": 59,
   "metadata": {},
   "outputs": [
    {
     "name": "stdout",
     "output_type": "stream",
     "text": [
      "[[5.45981500e+01 2.71828183e+00 4.03428793e+02 1.09663316e+03\n",
      "  2.98095799e+03 7.38905610e+00 4.03428793e+02 4.03428793e+02\n",
      "  8.10308393e+03 7.38905610e+00 1.09663316e+03 2.71828183e+00\n",
      "  5.45981500e+01 2.00855369e+01 1.48413159e+02 4.03428793e+02\n",
      "  5.45981500e+01 2.98095799e+03 1.09663316e+03 7.38905610e+00\n",
      "  2.98095799e+03 8.10308393e+03 7.38905610e+00 1.48413159e+02\n",
      "  5.45981500e+01]] [[5.45981500e+01]\n",
      " [2.71828183e+00]\n",
      " [4.03428793e+02]\n",
      " [1.09663316e+03]\n",
      " [2.98095799e+03]\n",
      " [7.38905610e+00]\n",
      " [4.03428793e+02]\n",
      " [4.03428793e+02]\n",
      " [8.10308393e+03]\n",
      " [7.38905610e+00]\n",
      " [1.09663316e+03]\n",
      " [2.71828183e+00]\n",
      " [5.45981500e+01]\n",
      " [2.00855369e+01]\n",
      " [1.48413159e+02]\n",
      " [4.03428793e+02]\n",
      " [5.45981500e+01]\n",
      " [2.98095799e+03]\n",
      " [1.09663316e+03]\n",
      " [7.38905610e+00]\n",
      " [2.98095799e+03]\n",
      " [8.10308393e+03]\n",
      " [7.38905610e+00]\n",
      " [1.48413159e+02]\n",
      " [5.45981500e+01]]\n"
     ]
    }
   ],
   "source": [
    "print(arr.reshape(-1,25),arr.reshape(25,-1))"
   ]
  },
  {
   "cell_type": "code",
   "execution_count": 66,
   "metadata": {},
   "outputs": [
    {
     "name": "stdout",
     "output_type": "stream",
     "text": [
      "<built-in method flatten of numpy.ndarray object at 0x7fc3a6507450>\n"
     ]
    },
    {
     "data": {
      "text/plain": [
       "<function ndarray.flatten>"
      ]
     },
     "execution_count": 66,
     "metadata": {},
     "output_type": "execute_result"
    }
   ],
   "source": [
    "# will convert the entire data to onedimension data\n",
    "print(arr.flatten)\n",
    "arr.flatten"
   ]
  },
  {
   "cell_type": "code",
   "execution_count": 67,
   "metadata": {},
   "outputs": [
    {
     "data": {
      "text/plain": [
       "array([5.45981500e+01, 2.71828183e+00, 4.03428793e+02, 1.09663316e+03,\n",
       "       2.98095799e+03, 7.38905610e+00, 4.03428793e+02, 4.03428793e+02,\n",
       "       8.10308393e+03, 7.38905610e+00, 1.09663316e+03, 2.71828183e+00,\n",
       "       5.45981500e+01, 2.00855369e+01, 1.48413159e+02, 4.03428793e+02,\n",
       "       5.45981500e+01, 2.98095799e+03, 1.09663316e+03, 7.38905610e+00,\n",
       "       2.98095799e+03, 8.10308393e+03, 7.38905610e+00, 1.48413159e+02,\n",
       "       5.45981500e+01])"
      ]
     },
     "execution_count": 67,
     "metadata": {},
     "output_type": "execute_result"
    }
   ],
   "source": [
    "arr.flatten()"
   ]
  },
  {
   "cell_type": "code",
   "execution_count": 70,
   "metadata": {},
   "outputs": [
    {
     "name": "stdout",
     "output_type": "stream",
     "text": [
      "[[[5.45981500e+01 2.71828183e+00 4.03428793e+02 1.09663316e+03\n",
      "   2.98095799e+03]]\n",
      "\n",
      " [[7.38905610e+00 4.03428793e+02 4.03428793e+02 8.10308393e+03\n",
      "   7.38905610e+00]]\n",
      "\n",
      " [[1.09663316e+03 2.71828183e+00 5.45981500e+01 2.00855369e+01\n",
      "   1.48413159e+02]]\n",
      "\n",
      " [[4.03428793e+02 5.45981500e+01 2.98095799e+03 1.09663316e+03\n",
      "   7.38905610e+00]]\n",
      "\n",
      " [[2.98095799e+03 8.10308393e+03 7.38905610e+00 1.48413159e+02\n",
      "   5.45981500e+01]]]\n"
     ]
    },
    {
     "data": {
      "text/plain": [
       "(5, 1, 5)"
      ]
     },
     "execution_count": 70,
     "metadata": {},
     "output_type": "execute_result"
    }
   ],
   "source": [
    "arr1=np.expand_dims(arr,axis=1)\n",
    "print(arr1)\n",
    "arr1.shape"
   ]
  },
  {
   "cell_type": "code",
   "execution_count": 71,
   "metadata": {},
   "outputs": [
    {
     "name": "stdout",
     "output_type": "stream",
     "text": [
      "[[[5.45981500e+01 2.71828183e+00 4.03428793e+02 1.09663316e+03\n",
      "   2.98095799e+03]\n",
      "  [7.38905610e+00 4.03428793e+02 4.03428793e+02 8.10308393e+03\n",
      "   7.38905610e+00]\n",
      "  [1.09663316e+03 2.71828183e+00 5.45981500e+01 2.00855369e+01\n",
      "   1.48413159e+02]\n",
      "  [4.03428793e+02 5.45981500e+01 2.98095799e+03 1.09663316e+03\n",
      "   7.38905610e+00]\n",
      "  [2.98095799e+03 8.10308393e+03 7.38905610e+00 1.48413159e+02\n",
      "   5.45981500e+01]]]\n"
     ]
    },
    {
     "data": {
      "text/plain": [
       "(1, 5, 5)"
      ]
     },
     "execution_count": 71,
     "metadata": {},
     "output_type": "execute_result"
    }
   ],
   "source": [
    "arr1=np.expand_dims(arr,axis=0)\n",
    "print(arr1)\n",
    "arr1.shape"
   ]
  },
  {
   "cell_type": "code",
   "execution_count": 76,
   "metadata": {},
   "outputs": [
    {
     "name": "stdout",
     "output_type": "stream",
     "text": [
      "[[[5.45981500e+01]\n",
      "  [2.71828183e+00]\n",
      "  [4.03428793e+02]\n",
      "  [1.09663316e+03]\n",
      "  [2.98095799e+03]]\n",
      "\n",
      " [[7.38905610e+00]\n",
      "  [4.03428793e+02]\n",
      "  [4.03428793e+02]\n",
      "  [8.10308393e+03]\n",
      "  [7.38905610e+00]]\n",
      "\n",
      " [[1.09663316e+03]\n",
      "  [2.71828183e+00]\n",
      "  [5.45981500e+01]\n",
      "  [2.00855369e+01]\n",
      "  [1.48413159e+02]]\n",
      "\n",
      " [[4.03428793e+02]\n",
      "  [5.45981500e+01]\n",
      "  [2.98095799e+03]\n",
      "  [1.09663316e+03]\n",
      "  [7.38905610e+00]]\n",
      "\n",
      " [[2.98095799e+03]\n",
      "  [8.10308393e+03]\n",
      "  [7.38905610e+00]\n",
      "  [1.48413159e+02]\n",
      "  [5.45981500e+01]]]\n"
     ]
    },
    {
     "data": {
      "text/plain": [
       "(5, 5, 1)"
      ]
     },
     "execution_count": 76,
     "metadata": {},
     "output_type": "execute_result"
    }
   ],
   "source": [
    "arr1=np.expand_dims(arr,axis=2)\n",
    "print(arr1)\n",
    "arr1.shape"
   ]
  },
  {
   "cell_type": "code",
   "execution_count": 81,
   "metadata": {},
   "outputs": [
    {
     "data": {
      "text/plain": [
       "array([[5.45981500e+01, 2.71828183e+00, 4.03428793e+02, 1.09663316e+03,\n",
       "        2.98095799e+03],\n",
       "       [7.38905610e+00, 4.03428793e+02, 4.03428793e+02, 8.10308393e+03,\n",
       "        7.38905610e+00],\n",
       "       [1.09663316e+03, 2.71828183e+00, 5.45981500e+01, 2.00855369e+01,\n",
       "        1.48413159e+02],\n",
       "       [4.03428793e+02, 5.45981500e+01, 2.98095799e+03, 1.09663316e+03,\n",
       "        7.38905610e+00],\n",
       "       [2.98095799e+03, 8.10308393e+03, 7.38905610e+00, 1.48413159e+02,\n",
       "        5.45981500e+01]])"
      ]
     },
     "execution_count": 81,
     "metadata": {},
     "output_type": "execute_result"
    }
   ],
   "source": [
    "arr1=arr1.squeeze()\n",
    "arr1"
   ]
  },
  {
   "cell_type": "code",
   "execution_count": 83,
   "metadata": {},
   "outputs": [
    {
     "data": {
      "text/plain": [
       "array([[5.45981500e+01, 2.71828183e+00, 4.03428793e+02, 1.09663316e+03,\n",
       "        2.98095799e+03],\n",
       "       [7.38905610e+00, 4.03428793e+02, 4.03428793e+02, 8.10308393e+03,\n",
       "        7.38905610e+00],\n",
       "       [1.09663316e+03, 2.71828183e+00, 5.45981500e+01, 2.00855369e+01,\n",
       "        1.48413159e+02],\n",
       "       [4.03428793e+02, 5.45981500e+01, 2.98095799e+03, 1.09663316e+03,\n",
       "        7.38905610e+00],\n",
       "       [2.98095799e+03, 8.10308393e+03, 7.38905610e+00, 1.48413159e+02,\n",
       "        5.45981500e+01]])"
      ]
     },
     "execution_count": 83,
     "metadata": {},
     "output_type": "execute_result"
    }
   ],
   "source": [
    "arr1.squeeze()"
   ]
  },
  {
   "cell_type": "code",
   "execution_count": 93,
   "metadata": {},
   "outputs": [
    {
     "name": "stdout",
     "output_type": "stream",
     "text": [
      "[0.65142114 0.65142114 0.65142114 0.80897721 0.80897721 0.80897721\n",
      " 0.78042608 0.78042608 0.78042608 0.58248594 0.58248594 0.58248594\n",
      " 0.17449835 0.17449835 0.17449835]\n",
      "[0.65142114 0.65142114 0.65142114 0.80897721 0.80897721 0.80897721\n",
      " 0.78042608 0.78042608 0.78042608 0.58248594 0.58248594 0.58248594\n",
      " 0.17449835 0.17449835 0.17449835]\n"
     ]
    }
   ],
   "source": [
    "arr=np.random.random(5)\n",
    "print(arr.repeat(3))\n",
    "print(np.repeat(arr,3))"
   ]
  },
  {
   "cell_type": "code",
   "execution_count": 98,
   "metadata": {},
   "outputs": [
    {
     "name": "stdout",
     "output_type": "stream",
     "text": [
      "[0.65142114 0.80897721 0.78042608 0.58248594 0.17449835]\n"
     ]
    },
    {
     "data": {
      "text/plain": [
       "array([0.58248594, 0.17449835, 0.65142114, 0.80897721, 0.78042608])"
      ]
     },
     "execution_count": 98,
     "metadata": {},
     "output_type": "execute_result"
    }
   ],
   "source": [
    "print(arr)\n",
    "np.roll(arr,2)"
   ]
  },
  {
   "cell_type": "code",
   "execution_count": 100,
   "metadata": {},
   "outputs": [
    {
     "data": {
      "text/plain": [
       "array([[0.65142114, 0.        , 0.        , 0.        , 0.        ],\n",
       "       [0.        , 0.80897721, 0.        , 0.        , 0.        ],\n",
       "       [0.        , 0.        , 0.78042608, 0.        , 0.        ],\n",
       "       [0.        , 0.        , 0.        , 0.58248594, 0.        ],\n",
       "       [0.        , 0.        , 0.        , 0.        , 0.17449835]])"
      ]
     },
     "execution_count": 100,
     "metadata": {},
     "output_type": "execute_result"
    }
   ],
   "source": [
    "np.diag(arr)"
   ]
  },
  {
   "cell_type": "code",
   "execution_count": 101,
   "metadata": {},
   "outputs": [
    {
     "data": {
      "text/plain": [
       "(array([[3, 4, 2, 6],\n",
       "        [3, 7, 4, 2],\n",
       "        [5, 5, 6, 8]]),\n",
       " array([[5, 1, 4, 6],\n",
       "        [5, 3, 1, 1],\n",
       "        [3, 3, 3, 7]]))"
      ]
     },
     "execution_count": 101,
     "metadata": {},
     "output_type": "execute_result"
    }
   ],
   "source": [
    "arr1=np.random.randint(1,10,(3,4))\n",
    "arr2=np.random.randint(1,10,(3,4))\n",
    "(arr1,arr2)"
   ]
  },
  {
   "cell_type": "code",
   "execution_count": 102,
   "metadata": {},
   "outputs": [
    {
     "data": {
      "text/plain": [
       "array([[3, 0, 2, 0],\n",
       "       [3, 1, 0, 0],\n",
       "       [2, 2, 0, 1]])"
      ]
     },
     "execution_count": 102,
     "metadata": {},
     "output_type": "execute_result"
    }
   ],
   "source": [
    "arr1%arr2"
   ]
  },
  {
   "cell_type": "code",
   "execution_count": 103,
   "metadata": {},
   "outputs": [
    {
     "data": {
      "text/plain": [
       "array([[1, 0, 0, 6],\n",
       "       [1, 3, 0, 0],\n",
       "       [1, 1, 2, 0]])"
      ]
     },
     "execution_count": 103,
     "metadata": {},
     "output_type": "execute_result"
    }
   ],
   "source": [
    "arr1 & arr2"
   ]
  },
  {
   "cell_type": "code",
   "execution_count": 104,
   "metadata": {},
   "outputs": [
    {
     "data": {
      "text/plain": [
       "array([[-4, -5, -3, -7],\n",
       "       [-4, -8, -5, -3],\n",
       "       [-6, -6, -7, -9]])"
      ]
     },
     "execution_count": 104,
     "metadata": {},
     "output_type": "execute_result"
    }
   ],
   "source": [
    "~arr1"
   ]
  },
  {
   "cell_type": "code",
   "execution_count": 105,
   "metadata": {},
   "outputs": [
    {
     "data": {
      "text/plain": [
       "array([[ 7,  5,  6,  6],\n",
       "       [ 7,  7,  5,  3],\n",
       "       [ 7,  7,  7, 15]])"
      ]
     },
     "execution_count": 105,
     "metadata": {},
     "output_type": "execute_result"
    }
   ],
   "source": [
    "arr1 | arr2"
   ]
  },
  {
   "cell_type": "code",
   "execution_count": 106,
   "metadata": {},
   "outputs": [
    {
     "data": {
      "text/plain": [
       "array([[False,  True, False, False],\n",
       "       [False,  True,  True,  True],\n",
       "       [ True,  True,  True,  True]])"
      ]
     },
     "execution_count": 106,
     "metadata": {},
     "output_type": "execute_result"
    }
   ],
   "source": [
    "arr1>arr2"
   ]
  },
  {
   "cell_type": "code",
   "execution_count": 108,
   "metadata": {},
   "outputs": [
    {
     "data": {
      "text/plain": [
       "array(['string_of_data', 'another string if data'], dtype='<U22')"
      ]
     },
     "execution_count": 108,
     "metadata": {},
     "output_type": "execute_result"
    }
   ],
   "source": [
    "arr=np.array([\"string_of_data\",\"another string if data\"])\n",
    "arr"
   ]
  },
  {
   "cell_type": "code",
   "execution_count": 109,
   "metadata": {},
   "outputs": [
    {
     "data": {
      "text/plain": [
       "array(['STRING_OF_DATA', 'ANOTHER STRING IF DATA'], dtype='<U22')"
      ]
     },
     "execution_count": 109,
     "metadata": {},
     "output_type": "execute_result"
    }
   ],
   "source": [
    "np.char.upper(arr)"
   ]
  },
  {
   "cell_type": "code",
   "execution_count": 110,
   "metadata": {},
   "outputs": [
    {
     "data": {
      "text/plain": [
       "array(['String_of_data', 'Another string if data'], dtype='<U22')"
      ]
     },
     "execution_count": 110,
     "metadata": {},
     "output_type": "execute_result"
    }
   ],
   "source": [
    "np.char.capitalize(arr)"
   ]
  },
  {
   "cell_type": "code",
   "execution_count": 111,
   "metadata": {},
   "outputs": [
    {
     "data": {
      "text/plain": [
       "array(['String_Of_Data', 'Another String If Data'], dtype='<U22')"
      ]
     },
     "execution_count": 111,
     "metadata": {},
     "output_type": "execute_result"
    }
   ],
   "source": [
    "np.char.title(arr)"
   ]
  },
  {
   "cell_type": "code",
   "execution_count": 112,
   "metadata": {},
   "outputs": [
    {
     "data": {
      "text/plain": [
       "array([[3, 4, 2, 6],\n",
       "       [3, 7, 4, 2],\n",
       "       [5, 5, 6, 8]])"
      ]
     },
     "execution_count": 112,
     "metadata": {},
     "output_type": "execute_result"
    }
   ],
   "source": [
    "arr1"
   ]
  },
  {
   "cell_type": "code",
   "execution_count": 114,
   "metadata": {},
   "outputs": [
    {
     "data": {
      "text/plain": [
       "array([[ 0.14112001, -0.7568025 ,  0.90929743, -0.2794155 ],\n",
       "       [ 0.14112001,  0.6569866 , -0.7568025 ,  0.90929743],\n",
       "       [-0.95892427, -0.95892427, -0.2794155 ,  0.98935825]])"
      ]
     },
     "execution_count": 114,
     "metadata": {},
     "output_type": "execute_result"
    }
   ],
   "source": [
    "np.sin(arr1)"
   ]
  },
  {
   "cell_type": "code",
   "execution_count": 115,
   "metadata": {},
   "outputs": [
    {
     "data": {
      "text/plain": [
       "array([[-0.9899925 , -0.65364362, -0.41614684,  0.96017029],\n",
       "       [-0.9899925 ,  0.75390225, -0.65364362, -0.41614684],\n",
       "       [ 0.28366219,  0.28366219,  0.96017029, -0.14550003]])"
      ]
     },
     "execution_count": 115,
     "metadata": {},
     "output_type": "execute_result"
    }
   ],
   "source": [
    "np.cos(arr1)"
   ]
  },
  {
   "cell_type": "code",
   "execution_count": 116,
   "metadata": {},
   "outputs": [
    {
     "data": {
      "text/plain": [
       "array([[-0.14254654,  1.15782128, -2.18503986, -0.29100619],\n",
       "       [-0.14254654,  0.87144798,  1.15782128, -2.18503986],\n",
       "       [-3.38051501, -3.38051501, -0.29100619, -6.79971146]])"
      ]
     },
     "execution_count": 116,
     "metadata": {},
     "output_type": "execute_result"
    }
   ],
   "source": [
    "np.tan(arr1)"
   ]
  },
  {
   "cell_type": "code",
   "execution_count": 117,
   "metadata": {},
   "outputs": [
    {
     "data": {
      "text/plain": [
       "array([[0.99505475, 0.9993293 , 0.96402758, 0.99998771],\n",
       "       [0.99505475, 0.99999834, 0.9993293 , 0.96402758],\n",
       "       [0.9999092 , 0.9999092 , 0.99998771, 0.99999977]])"
      ]
     },
     "execution_count": 117,
     "metadata": {},
     "output_type": "execute_result"
    }
   ],
   "source": [
    "np.tanh(arr1)"
   ]
  },
  {
   "cell_type": "code",
   "execution_count": 118,
   "metadata": {},
   "outputs": [
    {
     "data": {
      "text/plain": [
       "array([[  20.08553692,   54.59815003,    7.3890561 ,  403.42879349],\n",
       "       [  20.08553692, 1096.63315843,   54.59815003,    7.3890561 ],\n",
       "       [ 148.4131591 ,  148.4131591 ,  403.42879349, 2980.95798704]])"
      ]
     },
     "execution_count": 118,
     "metadata": {},
     "output_type": "execute_result"
    }
   ],
   "source": [
    "np.exp(arr1)"
   ]
  },
  {
   "cell_type": "code",
   "execution_count": 119,
   "metadata": {},
   "outputs": [
    {
     "data": {
      "text/plain": [
       "array([[1.73205081, 2.        , 1.41421356, 2.44948974],\n",
       "       [1.73205081, 2.64575131, 2.        , 1.41421356],\n",
       "       [2.23606798, 2.23606798, 2.44948974, 2.82842712]])"
      ]
     },
     "execution_count": 119,
     "metadata": {},
     "output_type": "execute_result"
    }
   ],
   "source": [
    "np.sqrt(arr1)"
   ]
  },
  {
   "cell_type": "code",
   "execution_count": 120,
   "metadata": {},
   "outputs": [
    {
     "data": {
      "text/plain": [
       "array([[0.47712125, 0.60205999, 0.30103   , 0.77815125],\n",
       "       [0.47712125, 0.84509804, 0.60205999, 0.30103   ],\n",
       "       [0.69897   , 0.69897   , 0.77815125, 0.90308999]])"
      ]
     },
     "execution_count": 120,
     "metadata": {},
     "output_type": "execute_result"
    }
   ],
   "source": [
    "np.log10(arr1)"
   ]
  },
  {
   "cell_type": "code",
   "execution_count": 123,
   "metadata": {},
   "outputs": [
    {
     "data": {
      "text/plain": [
       "2"
      ]
     },
     "execution_count": 123,
     "metadata": {},
     "output_type": "execute_result"
    }
   ],
   "source": [
    "arr1.min()"
   ]
  },
  {
   "cell_type": "code",
   "execution_count": 124,
   "metadata": {},
   "outputs": [
    {
     "data": {
      "text/plain": [
       "array([[ 9, 16,  4, 36],\n",
       "       [ 9, 49, 16,  4],\n",
       "       [25, 25, 36, 64]])"
      ]
     },
     "execution_count": 124,
     "metadata": {},
     "output_type": "execute_result"
    }
   ],
   "source": [
    "np.power(arr1,2)"
   ]
  },
  {
   "cell_type": "code",
   "execution_count": 126,
   "metadata": {},
   "outputs": [
    {
     "data": {
      "text/plain": [
       "4.583333333333333"
      ]
     },
     "execution_count": 126,
     "metadata": {},
     "output_type": "execute_result"
    }
   ],
   "source": [
    "np.mean(arr1)"
   ]
  },
  {
   "cell_type": "code",
   "execution_count": 127,
   "metadata": {},
   "outputs": [
    {
     "data": {
      "text/plain": [
       "4.583333333333333"
      ]
     },
     "execution_count": 127,
     "metadata": {},
     "output_type": "execute_result"
    }
   ],
   "source": [
    "arr1.mean()"
   ]
  },
  {
   "cell_type": "code",
   "execution_count": 129,
   "metadata": {},
   "outputs": [
    {
     "data": {
      "text/plain": [
       "4.5"
      ]
     },
     "execution_count": 129,
     "metadata": {},
     "output_type": "execute_result"
    }
   ],
   "source": [
    "np.median(arr1)"
   ]
  },
  {
   "cell_type": "code",
   "execution_count": 131,
   "metadata": {},
   "outputs": [
    {
     "data": {
      "text/plain": [
       "1.846543317180028"
      ]
     },
     "execution_count": 131,
     "metadata": {},
     "output_type": "execute_result"
    }
   ],
   "source": [
    "np.std(arr1)"
   ]
  },
  {
   "cell_type": "code",
   "execution_count": 133,
   "metadata": {},
   "outputs": [
    {
     "data": {
      "text/plain": [
       "8"
      ]
     },
     "execution_count": 133,
     "metadata": {},
     "output_type": "execute_result"
    }
   ],
   "source": [
    "arr1.max()"
   ]
  },
  {
   "cell_type": "code",
   "execution_count": 134,
   "metadata": {},
   "outputs": [
    {
     "data": {
      "text/plain": [
       "8"
      ]
     },
     "execution_count": 134,
     "metadata": {},
     "output_type": "execute_result"
    }
   ],
   "source": [
    "np.max(arr1)"
   ]
  },
  {
   "cell_type": "code",
   "execution_count": null,
   "metadata": {},
   "outputs": [],
   "source": []
  }
 ],
 "metadata": {
  "kernelspec": {
   "display_name": "Python 3.8.10 64-bit",
   "language": "python",
   "name": "python3"
  },
  "language_info": {
   "codemirror_mode": {
    "name": "ipython",
    "version": 3
   },
   "file_extension": ".py",
   "mimetype": "text/x-python",
   "name": "python",
   "nbconvert_exporter": "python",
   "pygments_lexer": "ipython3",
   "version": "3.8.10"
  },
  "orig_nbformat": 4,
  "vscode": {
   "interpreter": {
    "hash": "e7370f93d1d0cde622a1f8e1c04877d8463912d04d973331ad4851f04de6915a"
   }
  }
 },
 "nbformat": 4,
 "nbformat_minor": 2
}
