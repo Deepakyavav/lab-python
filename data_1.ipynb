{
 "cells": [
  {
   "attachments": {},
   "cell_type": "markdown",
   "metadata": {},
   "source": [
    "# Q-1"
   ]
  },
  {
   "cell_type": "code",
   "execution_count": 9,
   "metadata": {},
   "outputs": [],
   "source": [
    "import sys\n",
    "def findCommon(ar1, ar2, ar3):\n",
    "    n1=len(ar1)\n",
    "    n2=len(ar2)\n",
    "    n3=len(ar3)\n",
    "    # Initialize starting indexes\n",
    "    # for ar1[], ar2and\n",
    "    # ar3[]\n",
    "    i = 0\n",
    "    j = 0\n",
    "    k = 0\n",
    " \n",
    "    # Declare three variables prev1,\n",
    "    # prev2, prev3 to track\n",
    "    # previous element\n",
    "    # Initialize prev1, prev2,\n",
    "    # prev3 with INT_MIN\n",
    "    prev1 = prev2 = prev3 = -sys.maxsize - 1\n",
    " \n",
    "    # Iterate through three arrays\n",
    "    # while all arrays have\n",
    "    # elements\n",
    "    while (i < n1 and j < n2 and k < n3):\n",
    " \n",
    "        # If ar1[i] = prev1 and i < n1,\n",
    "        # keep incrementing i\n",
    "        while (ar1[i] == prev1 and i < n1-1):\n",
    "            i += 1\n",
    " \n",
    "        # If ar2[j] = prev2 and j < n2,\n",
    "        # keep incrementing j\n",
    "        while (ar2[j] == prev2 and j < n2):\n",
    "            j += 1\n",
    " \n",
    "        # If ar3[k] = prev3 and k < n3,\n",
    "        # keep incrementing k\n",
    "        while (ar3[k] == prev3 and k < n3):\n",
    "            k += 1\n",
    " \n",
    "        # If x = y and y = z, pr\n",
    "        # any of them, update\n",
    "        # prev1 prev2, prev3 and move\n",
    "        # ahead in each array\n",
    "        if (ar1[i] == ar2[j] and ar2[j] == ar3[k]):\n",
    "            print(ar1[i], end=\" \")\n",
    "            prev1 = ar1[i]\n",
    "            prev2 = ar2[j]\n",
    "            prev3 = ar3[k]\n",
    "            i += 1\n",
    "            j += 1\n",
    "            k += 1\n",
    " \n",
    "        # If x < y, update prev1\n",
    "        # and increment i\n",
    "        elif (ar1[i] < ar2[j]):\n",
    "            prev1 = ar1[i]\n",
    "            i += 1\n",
    " \n",
    "        # If y < z, update prev2\n",
    "        # and increment j\n",
    "        elif (ar2[j] < ar3[k]):\n",
    "            prev2 = ar2[j]\n",
    "            j += 1\n",
    " \n",
    "        # We reach here when x > y\n",
    "        # and z < y, i.e., z is\n",
    "        # smallest update prev3\n",
    "        # and increment k\n",
    "        else:\n",
    "            prev3 = ar3[k]\n",
    "            k += 1"
   ]
  },
  {
   "cell_type": "code",
   "execution_count": 10,
   "metadata": {},
   "outputs": [
    {
     "name": "stdout",
     "output_type": "stream",
     "text": [
      "1 5 "
     ]
    }
   ],
   "source": [
    "arr1 = [1,2,3,4,5]\n",
    "arr2 = [1,2,5,7,9]\n",
    "arr3 = [1,3,4,5,8]\n",
    "findCommon(arr1, arr2, arr3)\n",
    "\n"
   ]
  },
  {
   "attachments": {},
   "cell_type": "markdown",
   "metadata": {},
   "source": [
    "# Q-2"
   ]
  },
  {
   "cell_type": "code",
   "execution_count": 18,
   "metadata": {},
   "outputs": [],
   "source": [
    "\n",
    "def findDifference(nums1, nums2):\n",
    "    n1=set(nums1)\n",
    "    n2=set(nums2)\n",
    "    r1=list(set(x for x in nums1 if x not in n2))\n",
    "    r2=list(set(x for x in nums2 if x not in n1))\n",
    "    return [r1,r2]"
   ]
  },
  {
   "cell_type": "code",
   "execution_count": 20,
   "metadata": {},
   "outputs": [
    {
     "name": "stdout",
     "output_type": "stream",
     "text": [
      "[[1, 3], [4, 6]]\n"
     ]
    }
   ],
   "source": [
    "nums1 = [1,2,3]\n",
    "nums2 = [2,4,6]\n",
    "print(findDifference(nums1, nums2))"
   ]
  },
  {
   "attachments": {},
   "cell_type": "markdown",
   "metadata": {},
   "source": [
    "# Q-3"
   ]
  },
  {
   "cell_type": "code",
   "execution_count": 15,
   "metadata": {},
   "outputs": [],
   "source": [
    "def Transpose(matrix):\n",
    "    for i in range(len(matrix)):\n",
    "        for j in range(len(matrix[0])):\n",
    "            if i<j:\n",
    "                (matrix[i][j],matrix[j][i])=(matrix[j][i],matrix[i][j])\n",
    "    return matrix"
   ]
  },
  {
   "cell_type": "code",
   "execution_count": 16,
   "metadata": {},
   "outputs": [
    {
     "name": "stdout",
     "output_type": "stream",
     "text": [
      "[[1, 4, 7], [2, 5, 8], [3, 6, 9]]\n"
     ]
    }
   ],
   "source": [
    "matrix = [[1,2,3],[4,5,6],[7,8,9]]\n",
    "print(Transpose(matrix))"
   ]
  },
  {
   "attachments": {},
   "cell_type": "markdown",
   "metadata": {},
   "source": [
    "# Q-4"
   ]
  },
  {
   "cell_type": "code",
   "execution_count": 21,
   "metadata": {},
   "outputs": [],
   "source": [
    "def fun(arr):\n",
    "    arr.sort()\n",
    "    l=0\n",
    "    h=len(arr)-1\n",
    "    l1=[]\n",
    "    while(l<h):\n",
    "        l1.append((arr[l],arr[l+1]))\n",
    "        l+=2\n",
    "    \n",
    "    # finding the maximum sum\n",
    "    sum=0\n",
    "    for i in l1:\n",
    "        sum+=min(i[0],i[1])\n",
    "    return sum\n"
   ]
  },
  {
   "cell_type": "code",
   "execution_count": 22,
   "metadata": {},
   "outputs": [
    {
     "name": "stdout",
     "output_type": "stream",
     "text": [
      "4\n"
     ]
    }
   ],
   "source": [
    "nums = [1,4,3,2]\n",
    "print(fun(nums))"
   ]
  },
  {
   "attachments": {},
   "cell_type": "markdown",
   "metadata": {},
   "source": [
    "# Q-5"
   ]
  },
  {
   "cell_type": "code",
   "execution_count": 23,
   "metadata": {},
   "outputs": [],
   "source": [
    "def fun(n):\n",
    "    res=1\n",
    "    for i in range(1,n):\n",
    "        ans=(i*(i+1))//2\n",
    "        if ans>n:\n",
    "            return res\n",
    "        res=max(res,i)\n",
    "    "
   ]
  },
  {
   "cell_type": "code",
   "execution_count": 24,
   "metadata": {},
   "outputs": [
    {
     "name": "stdout",
     "output_type": "stream",
     "text": [
      "2\n"
     ]
    }
   ],
   "source": [
    "n=5\n",
    "print(fun(n))"
   ]
  },
  {
   "attachments": {},
   "cell_type": "markdown",
   "metadata": {},
   "source": [
    "# Q-6"
   ]
  },
  {
   "cell_type": "code",
   "execution_count": 25,
   "metadata": {},
   "outputs": [],
   "source": [
    "def sortedSquares(nums):\n",
    "    i, j, n = 0, len(nums)-1, len(nums)-1\n",
    "    result = [0 for _ in range(len(nums))]\n",
    "    while n>=0:\n",
    "        if abs(nums[i])>abs(nums[j]):\n",
    "            result[n] = nums[i]**2\n",
    "            i += 1\n",
    "        else:\n",
    "            result[n] = nums[j]**2\n",
    "            j -= 1\n",
    "        n -= 1\n",
    "    return result"
   ]
  },
  {
   "cell_type": "code",
   "execution_count": 26,
   "metadata": {},
   "outputs": [
    {
     "name": "stdout",
     "output_type": "stream",
     "text": [
      "[0, 1, 9, 16, 100]\n"
     ]
    }
   ],
   "source": [
    "nums = [-4,-1,0,3,10]\n",
    "print(sortedSquares(nums))"
   ]
  },
  {
   "attachments": {},
   "cell_type": "markdown",
   "metadata": {},
   "source": [
    "# Q-7"
   ]
  },
  {
   "cell_type": "code",
   "execution_count": 32,
   "metadata": {},
   "outputs": [],
   "source": [
    "import sys\n",
    "def maxCount(m,n, ops):\n",
    "      if not ops:\n",
    "        return m * n\n",
    "      \n",
    "      #finding minimum area of overlap\n",
    "      min_row = sys.maxsize\n",
    "      min_col = sys.maxsize\n",
    "      \n",
    "      for i in ops:\n",
    "        min_row = min(min_row, i[0])\n",
    "        min_col = min(min_col, i[1])\n",
    "        \n",
    "      return min_row * min_col"
   ]
  },
  {
   "cell_type": "code",
   "execution_count": 34,
   "metadata": {},
   "outputs": [
    {
     "name": "stdout",
     "output_type": "stream",
     "text": [
      "4\n"
     ]
    }
   ],
   "source": [
    "m = 3\n",
    "n = 3\n",
    "ops = [[2,2],[3,3]]\n",
    "print(maxCount(m,n, ops))\n"
   ]
  },
  {
   "attachments": {},
   "cell_type": "markdown",
   "metadata": {},
   "source": [
    "# Q-8"
   ]
  },
  {
   "cell_type": "code",
   "execution_count": 35,
   "metadata": {},
   "outputs": [],
   "source": [
    "def shuffle(nums, n):\n",
    "        first = 0\n",
    "        second = n\n",
    "        max_val = 10000\n",
    "        for i in range(2 * n):\n",
    "            if i % 2 == 0:\n",
    "                nums[i] = (nums[first] % max_val) * max_val + nums[i]\n",
    "                first += 1\n",
    "            else:\n",
    "                nums[i] = (nums[second] % max_val) * max_val + nums[i]\n",
    "                second += 1\n",
    "        for i in range(2 * n):\n",
    "            nums[i] = nums[i] // max_val\n",
    "        return nums"
   ]
  },
  {
   "cell_type": "code",
   "execution_count": 36,
   "metadata": {},
   "outputs": [
    {
     "name": "stdout",
     "output_type": "stream",
     "text": [
      "[2, 3, 5, 4, 1, 7]\n"
     ]
    }
   ],
   "source": [
    "nums = [2,5,1,3,4,7]\n",
    "n = 3\n",
    "print(shuffle(nums,n))"
   ]
  },
  {
   "cell_type": "code",
   "execution_count": null,
   "metadata": {},
   "outputs": [],
   "source": []
  }
 ],
 "metadata": {
  "kernelspec": {
   "display_name": "Python 3",
   "language": "python",
   "name": "python3"
  },
  "language_info": {
   "codemirror_mode": {
    "name": "ipython",
    "version": 3
   },
   "file_extension": ".py",
   "mimetype": "text/x-python",
   "name": "python",
   "nbconvert_exporter": "python",
   "pygments_lexer": "ipython3",
   "version": "3.11.2"
  },
  "orig_nbformat": 4
 },
 "nbformat": 4,
 "nbformat_minor": 2
}
